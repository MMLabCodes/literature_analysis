{
 "cells": [
  {
   "cell_type": "markdown",
   "id": "5b099faa",
   "metadata": {},
   "source": [
    "# Search Parameters"
   ]
  },
  {
   "cell_type": "code",
   "execution_count": 5,
   "id": "de80742b",
   "metadata": {},
   "outputs": [],
   "source": [
    "seed = 70 # seed for NMF topic model\n",
    "num_topics = 12\n",
    "labels = 'ABCDEFGHIJKLMNOPQRSTUVWXYZ'\n",
    "vis_seed = 6 # seed for t-SNE visualization\n",
    "vis_angle = 135 # rotation angle for visualization"
   ]
  },
  {
   "cell_type": "markdown",
   "id": "96cc9df7",
   "metadata": {},
   "source": [
    "# Import Modules"
   ]
  },
  {
   "cell_type": "code",
   "execution_count": 6,
   "id": "68d028fd",
   "metadata": {
    "scrolled": true
   },
   "outputs": [],
   "source": [
    "import requests\n",
    "import time\n",
    "import gensim\n",
    "from gensim.utils import simple_preprocess\n",
    "import numpy as np\n",
    "import re\n",
    "import pandas as pd\n",
    "import matplotlib.pyplot as plt\n",
    "import sklearn.decomposition\n",
    "import sklearn.feature_extraction\n",
    "from wordcloud import WordCloud\n",
    "from IPython.display import display\n",
    "from collections import defaultdict\n",
    "\n",
    "import seaborn as sns\n",
    "sns.set('paper')\n",
    "\n",
    "import logging\n",
    "logging.getLogger().setLevel(logging.INFO)\n",
    "\n",
    "# some python 3 trickery\n",
    "import sys\n",
    "if sys.version_info[0] >= 3:\n",
    "    unicode = str\n"
   ]
  },
  {
   "cell_type": "markdown",
   "id": "e190017f",
   "metadata": {},
   "source": [
    "# Useful Functions"
   ]
  },
  {
   "cell_type": "code",
   "execution_count": 7,
   "id": "89cfb5ec",
   "metadata": {},
   "outputs": [],
   "source": [
    "def prepare_fig(w=1, h=None):\n",
    "    if h is None: h = w\n",
    "    figsize = (6 * w, 3 * h)\n",
    "    sns.set(rc={'figure.figsize': figsize})\n",
    "    fig = plt.figure(figsize=figsize)\n",
    "    plt.clf()\n",
    "    return fig\n",
    "\n",
    "def top_k(mapping, k=10):\n",
    "    return sorted(mapping.keys(), key=lambda x: mapping[x])[::-1][:k]\n",
    "\n",
    "pd.set_option('display.max_rows', 250)\n",
    "\n",
    "def plot_statistic(fun):\n",
    "    count = defaultdict(int)\n",
    "\n",
    "    for row in fun:\n",
    "        if row:\n",
    "            count[unicode(row)] += 1\n",
    "\n",
    "    top_keys = top_k(count, 50)\n",
    "\n",
    "    prepare_fig(1, 4)\n",
    "    plt.xlabel(\"No. publications\")\n",
    "    plt.barh(\n",
    "        range(len(top_keys)),\n",
    "        [count[a] for a in top_keys])\n",
    "    plt.yticks(\n",
    "        range(len(top_keys)), \n",
    "        [key[:50] for key in top_keys])\n",
    "    plt.show()"
   ]
  },
  {
   "cell_type": "markdown",
   "id": "fe9d60e0",
   "metadata": {},
   "source": [
    "# Perform Query"
   ]
  },
  {
   "cell_type": "code",
   "execution_count": null,
   "id": "91834765",
   "metadata": {
    "collapsed": true,
    "pycharm": {
     "is_executing": true
    }
   },
   "outputs": [],
   "source": [
    "# Some query examples\n",
    "# \"protein AND (molecular dynamics) AND year_published:[2000 TO 2018]\"\n",
    "# \"author.display_name:(Jingjie AND Yeo) AND year_published:[2000 TO 2018]\"\n",
    "# \"(autonomous driving) OR (self-driving car) OR (robotic car)\"\n",
    "# \"(silk) OR (collagen) AND (biomaterial) AND (molecular dynamics)\"\n",
    "# \"(community participatory research) AND year_published:[2017 TO 2018]\"\n",
    "\n",
    "url = 'https://api.lens.org/scholarly/search'\n",
    "\n",
    "request_body = '''{\n",
    "\t\"query\": {\n",
    "\t\t\"query_string\": {\n",
    "\t\t\t\"query\": \"(silk) OR (collagen) AND (biomaterial) AND (molecular dynamics)\",\n",
    "            \"default_operator\": \"and\"\n",
    "\t\t}\n",
    "\t},\n",
    "    \"languages\": \"en\",\n",
    "    \"scroll\": \"1m\",\n",
    "    \"size\": 500,\n",
    "    \"sort\": [\n",
    "            {\n",
    "            \"year_published\": \"desc\"\n",
    "            }\n",
    "     ]\n",
    "}'''\n",
    "\n",
    "headers = {'Authorization': 'Bearer API Key', 'Content-Type': 'application/json'}\n",
    "\n",
    "df_raw = pd.DataFrame()\n",
    "# Recursive function to scroll through paginated results\n",
    "def scroll(scroll_id, url, request_body, headers):\n",
    "    global df_raw\n",
    "    # Change the request_body to prepare for next scroll api call\n",
    "    # Make sure to append the include fields to make faster response\n",
    "    if scroll_id is not None:\n",
    "        request_body = '''{\"scroll_id\": \"%s\"}''' % (scroll_id)\n",
    "\n",
    "    # make api request\n",
    "    response = requests.post(url, data=request_body, headers=headers) \n",
    "\n",
    "    # If rate-limited, wait for n seconds and proceed the same scroll id\n",
    "    # Since scroll time is 1 minutes, it will give sufficient time to wait and proceed\n",
    "    if response.status_code == requests.codes.too_many_requests:\n",
    "        time.sleep(8)\n",
    "        scroll(scroll_id, url, request_body, headers)\n",
    "  \n",
    "    # If the response is not ok here, better to stop here and debug it\n",
    "    elif response.status_code != requests.codes.ok:\n",
    "        print(response.json())\n",
    "  \n",
    "    # If the response is ok, do something with the response, take the new scroll id and iterate\n",
    "    else:\n",
    "        json = response.json()\n",
    "\n",
    "        # End recursion once end of search is reached\n",
    "        if not json['data']:\n",
    "            return\n",
    "\n",
    "        scroll_id = json['scroll_id'] # Extract the new scroll id from response\n",
    "        \n",
    "        # Store the data into a dataframe\n",
    "        print(json['data'])\n",
    "        df_raw = df_raw.append(pd.DataFrame.from_dict(json['data'])) \n",
    "        \n",
    "        # Keep scrolling\n",
    "        scroll(scroll_id, url, request_body, headers)\n",
    "\n",
    "# start recursive scrolling\n",
    "scroll(None, url, request_body, headers)\n",
    "\n",
    "# Raw Data\n",
    "df_raw = df_raw.reset_index() # make sure indexes pair with number of rows\n",
    "\n",
    "# Filter journal articles only\n",
    "df = df_raw[df_raw['publication_type'].str.contains('journal article', na=False)] \n",
    "df = df.reset_index() # make sure indexes pair with number of rows"
   ]
  },
  {
   "cell_type": "code",
   "execution_count": null,
   "id": "d7551569",
   "metadata": {
    "pycharm": {
     "is_executing": true
    }
   },
   "outputs": [],
   "source": [
    "# Post-process data to obtain author information        \n",
    "from itertools import combinations\n",
    "\n",
    "# Get each manuscript's author names as a Pandas Series\n",
    "authors = pd.DataFrame()\n",
    "for a in df['authors'].dropna():\n",
    "    try:\n",
    "        author_list = []\n",
    "        for b in a:\n",
    "            try:\n",
    "                author_list.append(b['last_name'] + ', ' + b['first_name'])\n",
    "            except Exception:\n",
    "                continue\n",
    "        \n",
    "        author = []\n",
    "        author.append(author_list)\n",
    "        authors = authors.append(pd.Series(author), ignore_index=True)\n",
    "    except Exception:\n",
    "        continue\n",
    "\n",
    "# We will extract author connections\n",
    "# First, convert to Pandas Series\n",
    "authors = authors.squeeze()\n",
    "\n",
    "# Create a list of these authors\n",
    "authors_flat = [\n",
    "    author\n",
    "    for authors in list(authors.dropna())\n",
    "    for author in authors\n",
    "]\n",
    "\n",
    "# Permute all combinations of author pairs in each manuscript\n",
    "author_connections = list(\n",
    "    map(lambda x: list(combinations(x[::-1], 2)), authors)\n",
    ")\n",
    "\n",
    "# Flatten into a list\n",
    "flat_connections = [item for sublist in author_connections for item in sublist]\n",
    "\n",
    "# Create a dataframe with the connections\n",
    "df_connect = pd.DataFrame(flat_connections, columns=[\"From\", \"To\"])\n",
    "df_graph = df_connect.groupby([\"From\", \"To\"]).size().reset_index()\n",
    "df_graph.columns = [\"From\", \"To\", \"Count\"]\n"
   ]
  },
  {
   "cell_type": "code",
   "execution_count": 10,
   "id": "0fadf373",
   "metadata": {},
   "outputs": [],
   "source": [
    "# Create graphs to connect each manuscript's authors\n",
    "import networkx as nx\n",
    "from collections import Counter\n",
    "\n",
    "G = nx.from_pandas_edgelist(\n",
    "    df_graph, source=\"From\", target=\"To\", edge_attr=\"Count\"\n",
    ")\n",
    "\n",
    "# Limit to top authors, please edit accordingly\n",
    "top_authors = pd.DataFrame.from_records(\n",
    "    Counter(authors_flat).most_common(20), columns=[\"Name\", \"Count\"]\n",
    ")\n",
    "\n",
    "top_nodes = (n for n in list(G.nodes()) if n in list(top_authors[\"Name\"]))\n",
    "\n",
    "G_top = G.subgraph(top_nodes)\n",
    "\n",
    "for n in G_top.nodes():\n",
    "    G_top.nodes[n][\"publications\"] = int(\n",
    "        top_authors[top_authors[\"Name\"] == n][\"Count\"]\n",
    "    )"
   ]
  },
  {
   "cell_type": "markdown",
   "source": [
    "# Plotting using Bokeh"
   ],
   "metadata": {
    "collapsed": false
   }
  },
  {
   "cell_type": "markdown",
   "source": [
    "running on colab notebooks might require one to install bokeh and networkx package <br>run \"!pip install networkx==v2.7.1 bokeh==v3.0.3\" in a cell"
   ],
   "metadata": {
    "collapsed": false
   }
  },
  {
   "cell_type": "code",
   "execution_count": 21,
   "outputs": [],
   "source": [
    "# networkx v2.7.1\n",
    "# bokeh v3.0.3\n",
    "from bokeh.io import output_notebook, show\n",
    "from bokeh.plotting import from_networkx, figure\n",
    "# for rendering\n",
    "from bokeh.models import (BoxSelectTool, Circle, HoverTool, MultiLine, NodesAndLinkedEdges, TapTool, Range1d)\n",
    "# for color\n",
    "from bokeh.palettes import TolYlOrBr9, Blues9, Category10_9, Dark2_8\n",
    "from bokeh.transform import linear_cmap\n",
    "# for labels\n",
    "from bokeh.models import ColumnDataSource, LabelSet\n",
    "\n",
    "\n",
    "\"\"\"\n",
    "Render an interactive using Bokeh\n",
    "\n",
    "G: Networkx graph object to be rendered\n",
    "layout: str, specify the layout of the graph. one of \"spring\", \"circular\", \"random\", \"kamada_kawai\"\n",
    "color: color palette from bokeh, can be found on bokeh docs at https://docs.bokeh.org/en/latest/docs/reference/palettes.html\n",
    "\n",
    "returns: bokeh plot object.\n",
    "\"\"\"\n",
    "def bokeh_graph_plot(G,layout = \"spring\", color_palette=Dark2_8):\n",
    "\n",
    "    node_size_scalar_x = 3\n",
    "\n",
    "    # convert the labels of nodes to integers\n",
    "    G_num = nx.convert_node_labels_to_integers(G, label_attribute=\"Name\")\n",
    "    # to adjust node size\n",
    "    adj_size = {n_idx:G_num.nodes().get(n_idx)['publications']*node_size_scalar_x for n_idx in G_num.nodes()}\n",
    "    nx.set_node_attributes(G_num,name=\"adj_node_size\",values=adj_size)\n",
    "    #to color nodes based on connected components\n",
    "    node_color = {}\n",
    "    connected_components = list(nx.connected_components(G_num))\n",
    "    for idx,component in enumerate(connected_components):\n",
    "        color = color_palette[int((idx/len(connected_components))*len(color_palette))]\n",
    "        for n in component:\n",
    "            node_color[n] = color\n",
    "    nx.set_node_attributes(G_num,name=\"node_color\",values=node_color)\n",
    "    # to annotate nodes with fname\n",
    "    lname = {n_idx:G_num.nodes().get(n_idx)['Name'].split(',')[0] for n_idx in G_num.nodes()}\n",
    "    nx.set_node_attributes(G_num,name=\"lname\",values=lname)\n",
    "\n",
    "    # basic graph renderer\n",
    "    if layout == \"spring\":\n",
    "        graph_renderer = from_networkx(G_num, nx.spring_layout, scale=2, center=(0,0), k=0.7)\n",
    "    elif layout == \"circular\":\n",
    "        graph_renderer = from_networkx(G_num, nx.circular_layout, scale=2, center=(0,0))\n",
    "    elif layout == \"kamada_kawai\":\n",
    "        graph_renderer = from_networkx(G_num, nx.kamada_kawai_layout, scale=2, center=(0,0))\n",
    "    else:\n",
    "        graph_renderer = from_networkx(G_num, nx.random_layout,center=(0,0))\n",
    "\n",
    "    # setup plot\n",
    "\n",
    "    plot = figure(title=\"Publication network analysis\",\n",
    "                  width = 500, height = 500,\n",
    "                  x_range=Range1d(-2.5,2.5), y_range=Range1d(-2.5,2.5),\n",
    "                  tools=\"pan,save,reset,wheel_zoom,box_zoom\", active_scroll = \"wheel_zoom\")\n",
    "    # for tool tip of node\n",
    "    plot.add_tools(HoverTool(tooltips=[('Name','@Name'),('Publications','@publications')],\n",
    "                             renderers=[graph_renderer.node_renderer]))\n",
    "    # for tool tip of edge\n",
    "    plot.add_tools(HoverTool(tooltips=[('Count','@Count')],\n",
    "                             renderers=[graph_renderer.edge_renderer],\n",
    "                             line_policy=\"interp\"))\n",
    "    # for selection options (mouse click and lasso select)\n",
    "    plot.add_tools(TapTool(), BoxSelectTool())\n",
    "\n",
    "\n",
    "    # nodes\n",
    "\n",
    "    node_size_attrib = \"adj_node_size\"\n",
    "    node_color_attrib = \"node_color\"\n",
    "\n",
    "    # render the nodes\n",
    "    graph_renderer.node_renderer.glyph = Circle(size=node_size_attrib, fill_color=node_color_attrib)\n",
    "    graph_renderer.node_renderer.selection_glyph = Circle(size=15, fill_color='red')\n",
    "    graph_renderer.node_renderer.hover_glyph = Circle(size=15, fill_color='black')\n",
    "\n",
    "    # Edges\n",
    "\n",
    "    edge_width_attrib = \"Count\"\n",
    "\n",
    "    # render the edges\n",
    "    graph_renderer.edge_renderer.glyph = MultiLine(line_color = \"#CCCCCC\", line_alpha=0.5, line_width=edge_width_attrib)\n",
    "    graph_renderer.edge_renderer.selection_glyph = MultiLine(line_color = 'red', line_alpha=0.5, line_width=edge_width_attrib)\n",
    "    graph_renderer.edge_renderer.hover_glyph = MultiLine(line_color = 'black', line_alpha=0.5, line_width=edge_width_attrib)\n",
    "\n",
    "    # selection and insepection methods, gets the node and the edges assoc with the node\n",
    "    graph_renderer.selection_policy = NodesAndLinkedEdges()\n",
    "    graph_renderer.inspection_policy = NodesAndLinkedEdges()\n",
    "\n",
    "\n",
    "    # add labels\n",
    "    label_attrib = \"lname\"\n",
    "    x, y = zip(*graph_renderer.layout_provider.graph_layout.values())\n",
    "    node_labels = list(G_num.nodes())\n",
    "    source = ColumnDataSource({'x':x,'y':y,\n",
    "                               'name':[n_data[1][label_attrib] for n_data in G_num.nodes().data()]})\n",
    "    labels = LabelSet(x='x', y='y', text='name', source=source, background_fill_color='white', text_font_size='10px', background_fill_alpha=.7)\n",
    "    plot.renderers.append(labels)\n",
    "\n",
    "    # show plot\n",
    "    plot.renderers.append(graph_renderer)\n",
    "\n",
    "    return plot"
   ],
   "metadata": {
    "collapsed": false
   }
  },
  {
   "cell_type": "markdown",
   "source": [
    "Similarly, the plot uses networkx layouts, where the included options are spring, circular, kamada_kawai and random. Nodes that belong to the same connected component of the graph are colored the same and the node size is reflective of the number of publications by the person. The edge width is reflective of the number of shared publications.<br><br>Hovering over nodes would display the full name and the number of publication. Hovering over edges show the number of shared publications.<br><br>There are also some tools for interactivity, which can be enabled and disabled in the tool-bar on the right side of the graph. In order from top to bottom, \"pan\", \"box zoom\", \"box select\", \"mouse wheel zoom\", \"select\", \"download\", \"reset\", \"hover for nodes\", \"hover for edges\"."
   ],
   "metadata": {
    "collapsed": false
   }
  },
  {
   "cell_type": "code",
   "execution_count": 22,
   "outputs": [
    {
     "data": {
      "text/html": "<style>\n        .bk-notebook-logo {\n            display: block;\n            width: 20px;\n            height: 20px;\n            background-image: url(data:image/png;base64,iVBORw0KGgoAAAANSUhEUgAAABQAAAAUCAYAAACNiR0NAAAABHNCSVQICAgIfAhkiAAAAAlwSFlzAAALEgAACxIB0t1+/AAAABx0RVh0U29mdHdhcmUAQWRvYmUgRmlyZXdvcmtzIENTNui8sowAAAOkSURBVDiNjZRtaJVlGMd/1/08zzln5zjP1LWcU9N0NkN8m2CYjpgQYQXqSs0I84OLIC0hkEKoPtiH3gmKoiJDU7QpLgoLjLIQCpEsNJ1vqUOdO7ppbuec5+V+rj4ctwzd8IIbbi6u+8f1539dt3A78eXC7QizUF7gyV1fD1Yqg4JWz84yffhm0qkFqBogB9rM8tZdtwVsPUhWhGcFJngGeWrPzHm5oaMmkfEg1usvLFyc8jLRqDOMru7AyC8saQr7GG7f5fvDeH7Ej8CM66nIF+8yngt6HWaKh7k49Soy9nXurCi1o3qUbS3zWfrYeQDTB/Qj6kX6Ybhw4B+bOYoLKCC9H3Nu/leUTZ1JdRWkkn2ldcCamzrcf47KKXdAJllSlxAOkRgyHsGC/zRday5Qld9DyoM4/q/rUoy/CXh3jzOu3bHUVZeU+DEn8FInkPBFlu3+nW3Nw0mk6vCDiWg8CeJaxEwuHS3+z5RgY+YBR6V1Z1nxSOfoaPa4LASWxxdNp+VWTk7+4vzaou8v8PN+xo+KY2xsw6une2frhw05CTYOmQvsEhjhWjn0bmXPjpE1+kplmmkP3suftwTubK9Vq22qKmrBhpY4jvd5afdRA3wGjFAgcnTK2s4hY0/GPNIb0nErGMCRxWOOX64Z8RAC4oCXdklmEvcL8o0BfkNK4lUg9HTl+oPlQxdNo3Mg4Nv175e/1LDGzZen30MEjRUtmXSfiTVu1kK8W4txyV6BMKlbgk3lMwYCiusNy9fVfvvwMxv8Ynl6vxoByANLTWplvuj/nF9m2+PDtt1eiHPBr1oIfhCChQMBw6Aw0UulqTKZdfVvfG7VcfIqLG9bcldL/+pdWTLxLUy8Qq38heUIjh4XlzZxzQm19lLFlr8vdQ97rjZVOLf8nclzckbcD4wxXMidpX30sFd37Fv/GtwwhzhxGVAprjbg0gCAEeIgwCZyTV2Z1REEW8O4py0wsjeloKoMr6iCY6dP92H6Vw/oTyICIthibxjm/DfN9lVz8IqtqKYLUXfoKVMVQVVJOElGjrnnUt9T9wbgp8AyYKaGlqingHZU/uG2NTZSVqwHQTWkx9hxjkpWDaCg6Ckj5qebgBVbT3V3NNXMSiWSDdGV3hrtzla7J+duwPOToIg42ChPQOQjspnSlp1V+Gjdged7+8UN5CRAV7a5EdFNwCjEaBR27b3W890TE7g24NAP/mMDXRWrGoFPQI9ls/MWO2dWFAar/xcOIImbbpA3zgAAAABJRU5ErkJggg==);\n        }\n    </style>\n    <div>\n        <a href=\"https://bokeh.org\" target=\"_blank\" class=\"bk-notebook-logo\"></a>\n        <span id=\"p7769\">Loading BokehJS ...</span>\n    </div>\n"
     },
     "metadata": {},
     "output_type": "display_data"
    },
    {
     "data": {
      "application/javascript": "(function(root) {\n  function now() {\n    return new Date();\n  }\n\n  const force = true;\n\n  if (typeof root._bokeh_onload_callbacks === \"undefined\" || force === true) {\n    root._bokeh_onload_callbacks = [];\n    root._bokeh_is_loading = undefined;\n  }\n\nconst JS_MIME_TYPE = 'application/javascript';\n  const HTML_MIME_TYPE = 'text/html';\n  const EXEC_MIME_TYPE = 'application/vnd.bokehjs_exec.v0+json';\n  const CLASS_NAME = 'output_bokeh rendered_html';\n\n  /**\n   * Render data to the DOM node\n   */\n  function render(props, node) {\n    const script = document.createElement(\"script\");\n    node.appendChild(script);\n  }\n\n  /**\n   * Handle when an output is cleared or removed\n   */\n  function handleClearOutput(event, handle) {\n    const cell = handle.cell;\n\n    const id = cell.output_area._bokeh_element_id;\n    const server_id = cell.output_area._bokeh_server_id;\n    // Clean up Bokeh references\n    if (id != null && id in Bokeh.index) {\n      Bokeh.index[id].model.document.clear();\n      delete Bokeh.index[id];\n    }\n\n    if (server_id !== undefined) {\n      // Clean up Bokeh references\n      const cmd_clean = \"from bokeh.io.state import curstate; print(curstate().uuid_to_server['\" + server_id + \"'].get_sessions()[0].document.roots[0]._id)\";\n      cell.notebook.kernel.execute(cmd_clean, {\n        iopub: {\n          output: function(msg) {\n            const id = msg.content.text.trim();\n            if (id in Bokeh.index) {\n              Bokeh.index[id].model.document.clear();\n              delete Bokeh.index[id];\n            }\n          }\n        }\n      });\n      // Destroy server and session\n      const cmd_destroy = \"import bokeh.io.notebook as ion; ion.destroy_server('\" + server_id + \"')\";\n      cell.notebook.kernel.execute(cmd_destroy);\n    }\n  }\n\n  /**\n   * Handle when a new output is added\n   */\n  function handleAddOutput(event, handle) {\n    const output_area = handle.output_area;\n    const output = handle.output;\n\n    // limit handleAddOutput to display_data with EXEC_MIME_TYPE content only\n    if ((output.output_type != \"display_data\") || (!Object.prototype.hasOwnProperty.call(output.data, EXEC_MIME_TYPE))) {\n      return\n    }\n\n    const toinsert = output_area.element.find(\".\" + CLASS_NAME.split(' ')[0]);\n\n    if (output.metadata[EXEC_MIME_TYPE][\"id\"] !== undefined) {\n      toinsert[toinsert.length - 1].firstChild.textContent = output.data[JS_MIME_TYPE];\n      // store reference to embed id on output_area\n      output_area._bokeh_element_id = output.metadata[EXEC_MIME_TYPE][\"id\"];\n    }\n    if (output.metadata[EXEC_MIME_TYPE][\"server_id\"] !== undefined) {\n      const bk_div = document.createElement(\"div\");\n      bk_div.innerHTML = output.data[HTML_MIME_TYPE];\n      const script_attrs = bk_div.children[0].attributes;\n      for (let i = 0; i < script_attrs.length; i++) {\n        toinsert[toinsert.length - 1].firstChild.setAttribute(script_attrs[i].name, script_attrs[i].value);\n        toinsert[toinsert.length - 1].firstChild.textContent = bk_div.children[0].textContent\n      }\n      // store reference to server id on output_area\n      output_area._bokeh_server_id = output.metadata[EXEC_MIME_TYPE][\"server_id\"];\n    }\n  }\n\n  function register_renderer(events, OutputArea) {\n\n    function append_mime(data, metadata, element) {\n      // create a DOM node to render to\n      const toinsert = this.create_output_subarea(\n        metadata,\n        CLASS_NAME,\n        EXEC_MIME_TYPE\n      );\n      this.keyboard_manager.register_events(toinsert);\n      // Render to node\n      const props = {data: data, metadata: metadata[EXEC_MIME_TYPE]};\n      render(props, toinsert[toinsert.length - 1]);\n      element.append(toinsert);\n      return toinsert\n    }\n\n    /* Handle when an output is cleared or removed */\n    events.on('clear_output.CodeCell', handleClearOutput);\n    events.on('delete.Cell', handleClearOutput);\n\n    /* Handle when a new output is added */\n    events.on('output_added.OutputArea', handleAddOutput);\n\n    /**\n     * Register the mime type and append_mime function with output_area\n     */\n    OutputArea.prototype.register_mime_type(EXEC_MIME_TYPE, append_mime, {\n      /* Is output safe? */\n      safe: true,\n      /* Index of renderer in `output_area.display_order` */\n      index: 0\n    });\n  }\n\n  // register the mime type if in Jupyter Notebook environment and previously unregistered\n  if (root.Jupyter !== undefined) {\n    const events = require('base/js/events');\n    const OutputArea = require('notebook/js/outputarea').OutputArea;\n\n    if (OutputArea.prototype.mime_types().indexOf(EXEC_MIME_TYPE) == -1) {\n      register_renderer(events, OutputArea);\n    }\n  }\n  if (typeof (root._bokeh_timeout) === \"undefined\" || force === true) {\n    root._bokeh_timeout = Date.now() + 5000;\n    root._bokeh_failed_load = false;\n  }\n\n  const NB_LOAD_WARNING = {'data': {'text/html':\n     \"<div style='background-color: #fdd'>\\n\"+\n     \"<p>\\n\"+\n     \"BokehJS does not appear to have successfully loaded. If loading BokehJS from CDN, this \\n\"+\n     \"may be due to a slow or bad network connection. Possible fixes:\\n\"+\n     \"</p>\\n\"+\n     \"<ul>\\n\"+\n     \"<li>re-rerun `output_notebook()` to attempt to load from CDN again, or</li>\\n\"+\n     \"<li>use INLINE resources instead, as so:</li>\\n\"+\n     \"</ul>\\n\"+\n     \"<code>\\n\"+\n     \"from bokeh.resources import INLINE\\n\"+\n     \"output_notebook(resources=INLINE)\\n\"+\n     \"</code>\\n\"+\n     \"</div>\"}};\n\n  function display_loaded() {\n    const el = document.getElementById(\"p7769\");\n    if (el != null) {\n      el.textContent = \"BokehJS is loading...\";\n    }\n    if (root.Bokeh !== undefined) {\n      if (el != null) {\n        el.textContent = \"BokehJS \" + root.Bokeh.version + \" successfully loaded.\";\n      }\n    } else if (Date.now() < root._bokeh_timeout) {\n      setTimeout(display_loaded, 100)\n    }\n  }\n\n  function run_callbacks() {\n    try {\n      root._bokeh_onload_callbacks.forEach(function(callback) {\n        if (callback != null)\n          callback();\n      });\n    } finally {\n      delete root._bokeh_onload_callbacks\n    }\n    console.debug(\"Bokeh: all callbacks have finished\");\n  }\n\n  function load_libs(css_urls, js_urls, callback) {\n    if (css_urls == null) css_urls = [];\n    if (js_urls == null) js_urls = [];\n\n    root._bokeh_onload_callbacks.push(callback);\n    if (root._bokeh_is_loading > 0) {\n      console.debug(\"Bokeh: BokehJS is being loaded, scheduling callback at\", now());\n      return null;\n    }\n    if (js_urls == null || js_urls.length === 0) {\n      run_callbacks();\n      return null;\n    }\n    console.debug(\"Bokeh: BokehJS not loaded, scheduling load and callback at\", now());\n    root._bokeh_is_loading = css_urls.length + js_urls.length;\n\n    function on_load() {\n      root._bokeh_is_loading--;\n      if (root._bokeh_is_loading === 0) {\n        console.debug(\"Bokeh: all BokehJS libraries/stylesheets loaded\");\n        run_callbacks()\n      }\n    }\n\n    function on_error(url) {\n      console.error(\"failed to load \" + url);\n    }\n\n    for (let i = 0; i < css_urls.length; i++) {\n      const url = css_urls[i];\n      const element = document.createElement(\"link\");\n      element.onload = on_load;\n      element.onerror = on_error.bind(null, url);\n      element.rel = \"stylesheet\";\n      element.type = \"text/css\";\n      element.href = url;\n      console.debug(\"Bokeh: injecting link tag for BokehJS stylesheet: \", url);\n      document.body.appendChild(element);\n    }\n\n    for (let i = 0; i < js_urls.length; i++) {\n      const url = js_urls[i];\n      const element = document.createElement('script');\n      element.onload = on_load;\n      element.onerror = on_error.bind(null, url);\n      element.async = false;\n      element.src = url;\n      console.debug(\"Bokeh: injecting script tag for BokehJS library: \", url);\n      document.head.appendChild(element);\n    }\n  };\n\n  function inject_raw_css(css) {\n    const element = document.createElement(\"style\");\n    element.appendChild(document.createTextNode(css));\n    document.body.appendChild(element);\n  }\n\n  const js_urls = [\"https://cdn.bokeh.org/bokeh/release/bokeh-3.0.3.min.js\", \"https://cdn.bokeh.org/bokeh/release/bokeh-gl-3.0.3.min.js\", \"https://cdn.bokeh.org/bokeh/release/bokeh-widgets-3.0.3.min.js\", \"https://cdn.bokeh.org/bokeh/release/bokeh-tables-3.0.3.min.js\", \"https://cdn.bokeh.org/bokeh/release/bokeh-mathjax-3.0.3.min.js\"];\n  const css_urls = [];\n\n  const inline_js = [    function(Bokeh) {\n      Bokeh.set_log_level(\"info\");\n    },\nfunction(Bokeh) {\n    }\n  ];\n\n  function run_inline_js() {\n    if (root.Bokeh !== undefined || force === true) {\n          for (let i = 0; i < inline_js.length; i++) {\n      inline_js[i].call(root, root.Bokeh);\n    }\nif (force === true) {\n        display_loaded();\n      }} else if (Date.now() < root._bokeh_timeout) {\n      setTimeout(run_inline_js, 100);\n    } else if (!root._bokeh_failed_load) {\n      console.log(\"Bokeh: BokehJS failed to load within specified timeout.\");\n      root._bokeh_failed_load = true;\n    } else if (force !== true) {\n      const cell = $(document.getElementById(\"p7769\")).parents('.cell').data().cell;\n      cell.output_area.append_execute_result(NB_LOAD_WARNING)\n    }\n  }\n\n  if (root._bokeh_is_loading === 0) {\n    console.debug(\"Bokeh: BokehJS loaded, going straight to plotting\");\n    run_inline_js();\n  } else {\n    load_libs(css_urls, js_urls, function() {\n      console.debug(\"Bokeh: BokehJS plotting callback run at\", now());\n      run_inline_js();\n    });\n  }\n}(window));",
      "application/vnd.bokehjs_load.v0+json": "(function(root) {\n  function now() {\n    return new Date();\n  }\n\n  const force = true;\n\n  if (typeof root._bokeh_onload_callbacks === \"undefined\" || force === true) {\n    root._bokeh_onload_callbacks = [];\n    root._bokeh_is_loading = undefined;\n  }\n\n\n  if (typeof (root._bokeh_timeout) === \"undefined\" || force === true) {\n    root._bokeh_timeout = Date.now() + 5000;\n    root._bokeh_failed_load = false;\n  }\n\n  const NB_LOAD_WARNING = {'data': {'text/html':\n     \"<div style='background-color: #fdd'>\\n\"+\n     \"<p>\\n\"+\n     \"BokehJS does not appear to have successfully loaded. If loading BokehJS from CDN, this \\n\"+\n     \"may be due to a slow or bad network connection. Possible fixes:\\n\"+\n     \"</p>\\n\"+\n     \"<ul>\\n\"+\n     \"<li>re-rerun `output_notebook()` to attempt to load from CDN again, or</li>\\n\"+\n     \"<li>use INLINE resources instead, as so:</li>\\n\"+\n     \"</ul>\\n\"+\n     \"<code>\\n\"+\n     \"from bokeh.resources import INLINE\\n\"+\n     \"output_notebook(resources=INLINE)\\n\"+\n     \"</code>\\n\"+\n     \"</div>\"}};\n\n  function display_loaded() {\n    const el = document.getElementById(\"p7769\");\n    if (el != null) {\n      el.textContent = \"BokehJS is loading...\";\n    }\n    if (root.Bokeh !== undefined) {\n      if (el != null) {\n        el.textContent = \"BokehJS \" + root.Bokeh.version + \" successfully loaded.\";\n      }\n    } else if (Date.now() < root._bokeh_timeout) {\n      setTimeout(display_loaded, 100)\n    }\n  }\n\n  function run_callbacks() {\n    try {\n      root._bokeh_onload_callbacks.forEach(function(callback) {\n        if (callback != null)\n          callback();\n      });\n    } finally {\n      delete root._bokeh_onload_callbacks\n    }\n    console.debug(\"Bokeh: all callbacks have finished\");\n  }\n\n  function load_libs(css_urls, js_urls, callback) {\n    if (css_urls == null) css_urls = [];\n    if (js_urls == null) js_urls = [];\n\n    root._bokeh_onload_callbacks.push(callback);\n    if (root._bokeh_is_loading > 0) {\n      console.debug(\"Bokeh: BokehJS is being loaded, scheduling callback at\", now());\n      return null;\n    }\n    if (js_urls == null || js_urls.length === 0) {\n      run_callbacks();\n      return null;\n    }\n    console.debug(\"Bokeh: BokehJS not loaded, scheduling load and callback at\", now());\n    root._bokeh_is_loading = css_urls.length + js_urls.length;\n\n    function on_load() {\n      root._bokeh_is_loading--;\n      if (root._bokeh_is_loading === 0) {\n        console.debug(\"Bokeh: all BokehJS libraries/stylesheets loaded\");\n        run_callbacks()\n      }\n    }\n\n    function on_error(url) {\n      console.error(\"failed to load \" + url);\n    }\n\n    for (let i = 0; i < css_urls.length; i++) {\n      const url = css_urls[i];\n      const element = document.createElement(\"link\");\n      element.onload = on_load;\n      element.onerror = on_error.bind(null, url);\n      element.rel = \"stylesheet\";\n      element.type = \"text/css\";\n      element.href = url;\n      console.debug(\"Bokeh: injecting link tag for BokehJS stylesheet: \", url);\n      document.body.appendChild(element);\n    }\n\n    for (let i = 0; i < js_urls.length; i++) {\n      const url = js_urls[i];\n      const element = document.createElement('script');\n      element.onload = on_load;\n      element.onerror = on_error.bind(null, url);\n      element.async = false;\n      element.src = url;\n      console.debug(\"Bokeh: injecting script tag for BokehJS library: \", url);\n      document.head.appendChild(element);\n    }\n  };\n\n  function inject_raw_css(css) {\n    const element = document.createElement(\"style\");\n    element.appendChild(document.createTextNode(css));\n    document.body.appendChild(element);\n  }\n\n  const js_urls = [\"https://cdn.bokeh.org/bokeh/release/bokeh-3.0.3.min.js\", \"https://cdn.bokeh.org/bokeh/release/bokeh-gl-3.0.3.min.js\", \"https://cdn.bokeh.org/bokeh/release/bokeh-widgets-3.0.3.min.js\", \"https://cdn.bokeh.org/bokeh/release/bokeh-tables-3.0.3.min.js\", \"https://cdn.bokeh.org/bokeh/release/bokeh-mathjax-3.0.3.min.js\"];\n  const css_urls = [];\n\n  const inline_js = [    function(Bokeh) {\n      Bokeh.set_log_level(\"info\");\n    },\nfunction(Bokeh) {\n    }\n  ];\n\n  function run_inline_js() {\n    if (root.Bokeh !== undefined || force === true) {\n          for (let i = 0; i < inline_js.length; i++) {\n      inline_js[i].call(root, root.Bokeh);\n    }\nif (force === true) {\n        display_loaded();\n      }} else if (Date.now() < root._bokeh_timeout) {\n      setTimeout(run_inline_js, 100);\n    } else if (!root._bokeh_failed_load) {\n      console.log(\"Bokeh: BokehJS failed to load within specified timeout.\");\n      root._bokeh_failed_load = true;\n    } else if (force !== true) {\n      const cell = $(document.getElementById(\"p7769\")).parents('.cell').data().cell;\n      cell.output_area.append_execute_result(NB_LOAD_WARNING)\n    }\n  }\n\n  if (root._bokeh_is_loading === 0) {\n    console.debug(\"Bokeh: BokehJS loaded, going straight to plotting\");\n    run_inline_js();\n  } else {\n    load_libs(css_urls, js_urls, function() {\n      console.debug(\"Bokeh: BokehJS plotting callback run at\", now());\n      run_inline_js();\n    });\n  }\n}(window));"
     },
     "metadata": {},
     "output_type": "display_data"
    },
    {
     "data": {
      "text/html": "\n  <div id=\"58c8e650-30f7-4fa3-b71e-971be080a3eb\" data-root-id=\"p7644\" style=\"display: contents;\"></div>\n"
     },
     "metadata": {},
     "output_type": "display_data"
    },
    {
     "data": {
      "application/javascript": "(function(root) {\n  function embed_document(root) {\n  const docs_json = {\"0ad91ead-0a57-4e80-a3af-2729e40d809f\":{\"version\":\"3.0.3\",\"title\":\"Bokeh Application\",\"defs\":[],\"roots\":[{\"type\":\"object\",\"name\":\"Figure\",\"id\":\"p7644\",\"attributes\":{\"width\":500,\"height\":500,\"x_range\":{\"type\":\"object\",\"name\":\"Range1d\",\"id\":\"p7642\",\"attributes\":{\"start\":-2.5,\"end\":2.5}},\"y_range\":{\"type\":\"object\",\"name\":\"Range1d\",\"id\":\"p7643\",\"attributes\":{\"start\":-2.5,\"end\":2.5}},\"x_scale\":{\"type\":\"object\",\"name\":\"LinearScale\",\"id\":\"p7656\"},\"y_scale\":{\"type\":\"object\",\"name\":\"LinearScale\",\"id\":\"p7658\"},\"title\":{\"type\":\"object\",\"name\":\"Title\",\"id\":\"p7647\",\"attributes\":{\"text\":\"Publication network analysis\",\"text_color\":\"#5B5B5B\",\"text_font\":\"Helvetica\",\"text_font_size\":\"1.15em\"}},\"renderers\":[{\"type\":\"object\",\"name\":\"LabelSet\",\"id\":\"p7765\",\"attributes\":{\"source\":{\"type\":\"object\",\"name\":\"ColumnDataSource\",\"id\":\"p7762\",\"attributes\":{\"selected\":{\"type\":\"object\",\"name\":\"Selection\",\"id\":\"p7763\",\"attributes\":{\"indices\":[],\"line_indices\":[]}},\"selection_policy\":{\"type\":\"object\",\"name\":\"UnionRenderers\",\"id\":\"p7764\"},\"data\":{\"type\":\"map\",\"entries\":[[\"x\",[0.8557057630176435,0.3982250758174112,-1.400445979505217,-1.7166552700997617,1.5950063884613528,0.4534931433148007,1.5092799891344932,0.525023763898223,1.0859907103765716,0.607831259751198,-1.7960649755049254,-0.15969530141880775,1.0097873480904132,0.8931567395925886,0.6509395154038844,-1.6469823850232677,-0.013020764931905418,-1.9378329398031695,-0.9834206158756698,0.06967853530414397]],[\"y\",[0.3909011306670771,-2.0,0.4222960320946255,-1.2167718945652624,-0.37941354271688693,-1.615708332366376,1.0190461609192287,1.5567887838478167,0.6335463902423925,1.2236262270511191,0.4687507662092851,1.1393584984890013,0.8813670455120823,1.0725998490671818,0.667193155358384,0.9532614689875757,-1.9616138304893234,0.016381986547741974,-1.6481621076443316,-1.6234477872113298]],[\"name\",[\"Yu\",\"Przyby\\u0142ek\",\"Xue\",\"Krasieva\",\"Huster\",\"Cysewski\",\"Chang\",\"Jayaraman\",\"Milazzo\",\"Jung\",\"Paten\",\"Taylor\",\"Buehler\",\"Kaplan\",\"Khare\",\"Ruberti\",\"Sionkowska\",\"Xu\",\"Alkmin\",\"Be\\u0142dowski\"]]]}}},\"x\":{\"type\":\"field\",\"field\":\"x\"},\"y\":{\"type\":\"field\",\"field\":\"y\"},\"text\":{\"type\":\"field\",\"field\":\"name\"},\"text_font_size\":{\"type\":\"value\",\"value\":\"10px\"},\"background_fill_color\":{\"type\":\"value\",\"value\":\"white\"},\"background_fill_alpha\":{\"type\":\"value\",\"value\":0.7}}},{\"type\":\"object\",\"name\":\"GraphRenderer\",\"id\":\"p7610\",\"attributes\":{\"layout_provider\":{\"type\":\"object\",\"name\":\"StaticLayoutProvider\",\"id\":\"p7641\",\"attributes\":{\"graph_layout\":{\"type\":\"map\",\"entries\":[[0,{\"type\":\"ndarray\",\"array\":{\"type\":\"bytes\",\"data\":\"qhplDfFh6z8ozwsthgTZPw==\"},\"shape\":[2],\"dtype\":\"float64\",\"order\":\"little\"}],[1,{\"type\":\"ndarray\",\"array\":{\"type\":\"bytes\",\"data\":\"Qk5FB4V82T8AAAAAAAAAwA==\"},\"shape\":[2],\"dtype\":\"float64\",\"order\":\"little\"}],[2,{\"type\":\"ndarray\",\"array\":{\"type\":\"bytes\",\"data\":\"LaIcCzpo9r9K7cTv5QbbPw==\"},\"shape\":[2],\"dtype\":\"float64\",\"order\":\"little\"}],[3,{\"type\":\"ndarray\",\"array\":{\"type\":\"bytes\",\"data\":\"NVo5hGt3+7+gmF3O5Xfzvw==\"},\"shape\":[2],\"dtype\":\"float64\",\"order\":\"little\"}],[4,{\"type\":\"ndarray\",\"array\":{\"type\":\"bytes\",\"data\":\"LaQ1ayWF+T/POWi9T0jYvw==\"},\"shape\":[2],\"dtype\":\"float64\",\"order\":\"little\"}],[5,{\"type\":\"ndarray\",\"array\":{\"type\":\"bytes\",\"data\":\"7dPfGggG3T9oNvb68Nn5vw==\"},\"shape\":[2],\"dtype\":\"float64\",\"order\":\"little\"}],[6,{\"type\":\"ndarray\",\"array\":{\"type\":\"bytes\",\"data\":\"KnAdxgIm+D/1MuRYA07wPw==\"},\"shape\":[2],\"dtype\":\"float64\",\"order\":\"little\"}],[7,{\"type\":\"ndarray\",\"array\":{\"type\":\"bytes\",\"data\":\"KRryov7M4D/rfhZbm+j4Pw==\"},\"shape\":[2],\"dtype\":\"float64\",\"order\":\"little\"}],[8,{\"type\":\"ndarray\",\"array\":{\"type\":\"bytes\",\"data\":\"JDyNyzdg8T+z4FIUA0bkPw==\"},\"shape\":[2],\"dtype\":\"float64\",\"order\":\"little\"}],[9,{\"type\":\"ndarray\",\"array\":{\"type\":\"bytes\",\"data\":\"pcXDilpz4z8aZjsY+ZPzPw==\"},\"shape\":[2],\"dtype\":\"float64\",\"order\":\"little\"}],[10,{\"type\":\"ndarray\",\"array\":{\"type\":\"bytes\",\"data\":\"HY60oK68/L8rAbY2AwDePw==\"},\"shape\":[2],\"dtype\":\"float64\",\"order\":\"little\"}],[11,{\"type\":\"ndarray\",\"array\":{\"type\":\"bytes\",\"data\":\"DZZ1SOVwxL/64Bb6zzryPw==\"},\"shape\":[2],\"dtype\":\"float64\",\"order\":\"little\"}],[12,{\"type\":\"ndarray\",\"array\":{\"type\":\"bytes\",\"data\":\"Amg/xxYo8D+i44epKDTsPw==\"},\"shape\":[2],\"dtype\":\"float64\",\"order\":\"little\"}],[13,{\"type\":\"ndarray\",\"array\":{\"type\":\"bytes\",\"data\":\"qhFYcb2U7D9iApd1XinxPw==\"},\"shape\":[2],\"dtype\":\"float64\",\"order\":\"little\"}],[14,{\"type\":\"ndarray\",\"array\":{\"type\":\"bytes\",\"data\":\"Qq5KG3/U5D9HI8x1pVnlPw==\"},\"shape\":[2],\"dtype\":\"float64\",\"order\":\"little\"}],[15,{\"type\":\"ndarray\",\"array\":{\"type\":\"bytes\",\"data\":\"TzWMMwpa+r9z1ToyHoHuPw==\"},\"shape\":[2],\"dtype\":\"float64\",\"order\":\"little\"}],[16,{\"type\":\"ndarray\",\"array\":{\"type\":\"bytes\",\"data\":\"CFhpfKGqir+wUxUvxWL/vw==\"},\"shape\":[2],\"dtype\":\"float64\",\"order\":\"little\"}],[17,{\"type\":\"ndarray\",\"array\":{\"type\":\"bytes\",\"data\":\"8w7ZHF0B/7/PP92BcMaQPw==\"},\"shape\":[2],\"dtype\":\"float64\",\"order\":\"little\"}],[18,{\"type\":\"ndarray\",\"array\":{\"type\":\"bytes\",\"data\":\"5L3sgi5477/fa+063176vw==\"},\"shape\":[2],\"dtype\":\"float64\",\"order\":\"little\"}],[19,{\"type\":\"ndarray\",\"array\":{\"type\":\"bytes\",\"data\":\"jE5d1nPWsT8xYQ1jpPn5vw==\"},\"shape\":[2],\"dtype\":\"float64\",\"order\":\"little\"}]]}}},\"node_renderer\":{\"type\":\"object\",\"name\":\"GlyphRenderer\",\"id\":\"p7624\",\"attributes\":{\"data_source\":{\"type\":\"object\",\"name\":\"ColumnDataSource\",\"id\":\"p7621\",\"attributes\":{\"selected\":{\"type\":\"object\",\"name\":\"Selection\",\"id\":\"p7622\",\"attributes\":{\"indices\":[],\"line_indices\":[]}},\"selection_policy\":{\"type\":\"object\",\"name\":\"UnionRenderers\",\"id\":\"p7623\"},\"data\":{\"type\":\"map\",\"entries\":[[\"node_color\",[\"#1b9e77\",\"#d95f02\",\"#7570b3\",\"#e7298a\",\"#66a61e\",\"#d95f02\",\"#1b9e77\",\"#e6ab02\",\"#1b9e77\",\"#1b9e77\",\"#a6761d\",\"#e6ab02\",\"#1b9e77\",\"#1b9e77\",\"#1b9e77\",\"#a6761d\",\"#d95f02\",\"#7570b3\",\"#666666\",\"#d95f02\"]],[\"publications\",[2,2,2,3,3,2,3,4,3,3,3,3,10,5,2,3,2,2,2,2]],[\"lname\",[\"Yu\",\"Przyby\\u0142ek\",\"Xue\",\"Krasieva\",\"Huster\",\"Cysewski\",\"Chang\",\"Jayaraman\",\"Milazzo\",\"Jung\",\"Paten\",\"Taylor\",\"Buehler\",\"Kaplan\",\"Khare\",\"Ruberti\",\"Sionkowska\",\"Xu\",\"Alkmin\",\"Be\\u0142dowski\"]],[\"adj_node_size\",[6,6,6,9,9,6,9,12,9,9,9,9,30,15,6,9,6,6,6,6]],[\"Name\",[\"Yu, Chi-Hua\",\"Przyby\\u0142ek, Maciej\",\"Xue, Zhiyu\",\"Krasieva, Tatiana B.\",\"Huster, Daniel\",\"Cysewski, Piotr\",\"Chang, Shu-Wei\",\"Jayaraman, Arthi\",\"Milazzo, Mario\",\"Jung, Gang Seob\",\"Paten, Jeffrey A.\",\"Taylor, Phillip A\",\"Buehler, Markus J.\",\"Kaplan, David L.\",\"Khare, Eesha\",\"Ruberti, Jeffrey W.\",\"Sionkowska, Alina\",\"Xu, Dingguo\",\"Alkmin, Samuel\",\"Be\\u0142dowski, Piotr\"]],[\"index\",[0,1,2,3,4,5,6,7,8,9,10,11,12,13,14,15,16,17,18,19]]]}}},\"view\":{\"type\":\"object\",\"name\":\"CDSView\",\"id\":\"p7625\",\"attributes\":{\"filter\":{\"type\":\"object\",\"name\":\"AllIndices\",\"id\":\"p7626\"}}},\"glyph\":{\"type\":\"object\",\"name\":\"Circle\",\"id\":\"p7710\",\"attributes\":{\"size\":{\"type\":\"field\",\"field\":\"adj_node_size\"},\"fill_color\":{\"type\":\"field\",\"field\":\"node_color\"}}},\"selection_glyph\":{\"type\":\"object\",\"name\":\"Circle\",\"id\":\"p7718\",\"attributes\":{\"size\":{\"type\":\"value\",\"value\":15},\"fill_color\":{\"type\":\"value\",\"value\":\"red\"}}},\"hover_glyph\":{\"type\":\"object\",\"name\":\"Circle\",\"id\":\"p7726\",\"attributes\":{\"size\":{\"type\":\"value\",\"value\":15},\"fill_color\":{\"type\":\"value\",\"value\":\"black\"}}}}},\"edge_renderer\":{\"type\":\"object\",\"name\":\"GlyphRenderer\",\"id\":\"p7616\",\"attributes\":{\"data_source\":{\"type\":\"object\",\"name\":\"ColumnDataSource\",\"id\":\"p7613\",\"attributes\":{\"selected\":{\"type\":\"object\",\"name\":\"Selection\",\"id\":\"p7614\",\"attributes\":{\"indices\":[],\"line_indices\":[]}},\"selection_policy\":{\"type\":\"object\",\"name\":\"UnionRenderers\",\"id\":\"p7615\"},\"data\":{\"type\":\"map\",\"entries\":[[\"Count\",[1,1,1,1,2,2,2,2,2,2,3,1,3,2,2,1,3,1,2,2,1,1,2]],[\"start\",[0,0,0,0,1,1,1,2,5,5,6,6,7,8,8,8,9,9,10,12,12,13,16]],[\"end\",[12,13,14,8,5,19,16,17,19,16,12,13,11,12,9,14,12,13,15,13,14,14,19]]]}}},\"view\":{\"type\":\"object\",\"name\":\"CDSView\",\"id\":\"p7617\",\"attributes\":{\"filter\":{\"type\":\"object\",\"name\":\"AllIndices\",\"id\":\"p7618\"}}},\"glyph\":{\"type\":\"object\",\"name\":\"MultiLine\",\"id\":\"p7734\",\"attributes\":{\"line_color\":{\"type\":\"value\",\"value\":\"#CCCCCC\"},\"line_alpha\":{\"type\":\"value\",\"value\":0.5},\"line_width\":{\"type\":\"field\",\"field\":\"Count\"}}},\"selection_glyph\":{\"type\":\"object\",\"name\":\"MultiLine\",\"id\":\"p7742\",\"attributes\":{\"line_color\":{\"type\":\"value\",\"value\":\"red\"},\"line_alpha\":{\"type\":\"value\",\"value\":0.5},\"line_width\":{\"type\":\"field\",\"field\":\"Count\"}}},\"hover_glyph\":{\"type\":\"object\",\"name\":\"MultiLine\",\"id\":\"p7750\",\"attributes\":{\"line_alpha\":{\"type\":\"value\",\"value\":0.5},\"line_width\":{\"type\":\"field\",\"field\":\"Count\"}}}}},\"selection_policy\":{\"type\":\"object\",\"name\":\"NodesAndLinkedEdges\",\"id\":\"p7758\"},\"inspection_policy\":{\"type\":\"object\",\"name\":\"NodesAndLinkedEdges\",\"id\":\"p7760\"}}}],\"toolbar\":{\"type\":\"object\",\"name\":\"Toolbar\",\"id\":\"p7650\",\"attributes\":{\"tools\":[{\"type\":\"object\",\"name\":\"PanTool\",\"id\":\"p7674\"},{\"type\":\"object\",\"name\":\"SaveTool\",\"id\":\"p7675\"},{\"type\":\"object\",\"name\":\"ResetTool\",\"id\":\"p7676\"},{\"type\":\"object\",\"name\":\"WheelZoomTool\",\"id\":\"p7677\"},{\"type\":\"object\",\"name\":\"BoxZoomTool\",\"id\":\"p7678\",\"attributes\":{\"overlay\":{\"type\":\"object\",\"name\":\"BoxAnnotation\",\"id\":\"p7679\",\"attributes\":{\"syncable\":false,\"level\":\"overlay\",\"visible\":false,\"left_units\":\"canvas\",\"right_units\":\"canvas\",\"bottom_units\":\"canvas\",\"top_units\":\"canvas\",\"line_color\":\"black\",\"line_alpha\":1.0,\"line_width\":2,\"line_dash\":[4,4],\"fill_color\":\"lightgrey\",\"fill_alpha\":0.5}}}},{\"type\":\"object\",\"name\":\"HoverTool\",\"id\":\"p7694\",\"attributes\":{\"renderers\":[{\"id\":\"p7624\"}],\"tooltips\":[[\"Name\",\"@Name\"],[\"Publications\",\"@publications\"]]}},{\"type\":\"object\",\"name\":\"HoverTool\",\"id\":\"p7703\",\"attributes\":{\"renderers\":[{\"id\":\"p7616\"}],\"tooltips\":[[\"Count\",\"@Count\"]],\"line_policy\":\"interp\"}},{\"type\":\"object\",\"name\":\"TapTool\",\"id\":\"p7705\",\"attributes\":{\"renderers\":\"auto\"}},{\"type\":\"object\",\"name\":\"BoxSelectTool\",\"id\":\"p7706\",\"attributes\":{\"renderers\":\"auto\",\"overlay\":{\"type\":\"object\",\"name\":\"BoxAnnotation\",\"id\":\"p7707\",\"attributes\":{\"syncable\":false,\"level\":\"overlay\",\"visible\":false,\"left_units\":\"canvas\",\"right_units\":\"canvas\",\"bottom_units\":\"canvas\",\"top_units\":\"canvas\",\"line_color\":\"black\",\"line_alpha\":1.0,\"line_width\":2,\"line_dash\":[4,4],\"fill_color\":\"lightgrey\",\"fill_alpha\":0.5}}}}],\"active_scroll\":{\"id\":\"p7677\"}}},\"left\":[{\"type\":\"object\",\"name\":\"LinearAxis\",\"id\":\"p7667\",\"attributes\":{\"ticker\":{\"type\":\"object\",\"name\":\"BasicTicker\",\"id\":\"p7670\",\"attributes\":{\"mantissas\":[1,2,5]}},\"formatter\":{\"type\":\"object\",\"name\":\"BasicTickFormatter\",\"id\":\"p7669\"},\"axis_label_standoff\":10,\"axis_label_text_color\":\"#5B5B5B\",\"axis_label_text_font\":\"Helvetica\",\"axis_label_text_font_size\":\"1.25em\",\"axis_label_text_font_style\":\"normal\",\"major_label_policy\":{\"type\":\"object\",\"name\":\"AllLabels\",\"id\":\"p7668\"},\"major_label_text_color\":\"#5B5B5B\",\"major_label_text_font\":\"Helvetica\",\"major_label_text_font_size\":\"1.025em\",\"axis_line_color\":\"#5B5B5B\",\"axis_line_alpha\":0,\"major_tick_line_color\":\"#5B5B5B\",\"major_tick_line_alpha\":0,\"minor_tick_line_color\":\"#5B5B5B\",\"minor_tick_line_alpha\":0}}],\"below\":[{\"type\":\"object\",\"name\":\"LinearAxis\",\"id\":\"p7660\",\"attributes\":{\"ticker\":{\"type\":\"object\",\"name\":\"BasicTicker\",\"id\":\"p7663\",\"attributes\":{\"mantissas\":[1,2,5]}},\"formatter\":{\"type\":\"object\",\"name\":\"BasicTickFormatter\",\"id\":\"p7662\"},\"axis_label_standoff\":10,\"axis_label_text_color\":\"#5B5B5B\",\"axis_label_text_font\":\"Helvetica\",\"axis_label_text_font_size\":\"1.25em\",\"axis_label_text_font_style\":\"normal\",\"major_label_policy\":{\"type\":\"object\",\"name\":\"AllLabels\",\"id\":\"p7661\"},\"major_label_text_color\":\"#5B5B5B\",\"major_label_text_font\":\"Helvetica\",\"major_label_text_font_size\":\"1.025em\",\"axis_line_color\":\"#5B5B5B\",\"axis_line_alpha\":0,\"major_tick_line_color\":\"#5B5B5B\",\"major_tick_line_alpha\":0,\"minor_tick_line_color\":\"#5B5B5B\",\"minor_tick_line_alpha\":0}}],\"center\":[{\"type\":\"object\",\"name\":\"Grid\",\"id\":\"p7666\",\"attributes\":{\"axis\":{\"id\":\"p7660\"}}},{\"type\":\"object\",\"name\":\"Grid\",\"id\":\"p7673\",\"attributes\":{\"dimension\":1,\"axis\":{\"id\":\"p7667\"}}}]}}]}};\n  const render_items = [{\"docid\":\"0ad91ead-0a57-4e80-a3af-2729e40d809f\",\"roots\":{\"p7644\":\"58c8e650-30f7-4fa3-b71e-971be080a3eb\"},\"root_ids\":[\"p7644\"]}];\n  root.Bokeh.embed.embed_items_notebook(docs_json, render_items);\n  }\n  if (root.Bokeh !== undefined) {\n    embed_document(root);\n  } else {\n    let attempts = 0;\n    const timer = setInterval(function(root) {\n      if (root.Bokeh !== undefined) {\n        clearInterval(timer);\n        embed_document(root);\n      } else {\n        attempts++;\n        if (attempts > 100) {\n          clearInterval(timer);\n          console.log(\"Bokeh: ERROR: Unable to run BokehJS code because BokehJS library is missing\");\n        }\n      }\n    }, 10, root)\n  }\n})(window);",
      "application/vnd.bokehjs_exec.v0+json": ""
     },
     "metadata": {
      "application/vnd.bokehjs_exec.v0+json": {
       "id": "p7644"
      }
     },
     "output_type": "display_data"
    }
   ],
   "source": [
    "from bokeh.io import output_file\n",
    "\n",
    "plot = bokeh_graph_plot(G_top,layout=\"spring\")\n",
    "\n",
    "# Cant seem to get mouse wheel zoom on local jupyter notebook\n",
    "# comment out line below to plot on browser to allow wheel zoom\n",
    "output_notebook()\n",
    "\n",
    "show(plot)"
   ],
   "metadata": {
    "collapsed": false
   }
  },
  {
   "cell_type": "markdown",
   "source": [
    "![](bokeh_graph_plot.png)"
   ],
   "metadata": {
    "collapsed": false
   }
  },
  {
   "cell_type": "code",
   "execution_count": null,
   "outputs": [],
   "source": [],
   "metadata": {
    "collapsed": false
   }
  }
 ],
 "metadata": {
  "kernelspec": {
   "display_name": "Python 3 (ipykernel)",
   "language": "python",
   "name": "python3"
  },
  "language_info": {
   "codemirror_mode": {
    "name": "ipython",
    "version": 3
   },
   "file_extension": ".py",
   "mimetype": "text/x-python",
   "name": "python",
   "nbconvert_exporter": "python",
   "pygments_lexer": "ipython3",
   "version": "3.9.12"
  }
 },
 "nbformat": 4,
 "nbformat_minor": 5
}
